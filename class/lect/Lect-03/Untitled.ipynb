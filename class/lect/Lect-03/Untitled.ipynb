{
 "cells": [
  {
   "cell_type": "code",
   "execution_count": 3,
   "metadata": {},
   "outputs": [
    {
     "name": "stdout",
     "output_type": "stream",
     "text": [
      "diameter of earth in feet = 41807040\n"
     ]
    }
   ],
   "source": [
    "feet_per_mile = 5280\n",
    "earth_radius = 3959\n",
    "earth_diameter = earth_radius*2\n",
    "earth_diameter_feet = earth_diameter * feet_per_mile\n",
    "print ( \"diameter of earth in feet = {}\".format(earth_diameter_feet))"
   ]
  },
  {
   "cell_type": "code",
   "execution_count": 5,
   "metadata": {},
   "outputs": [
    {
     "name": "stdout",
     "output_type": "stream",
     "text": [
      "19938124800.0\n"
     ]
    }
   ],
   "source": [
    "tennis_ball_inches = 2.75\n",
    "sun_diameter_miles = 865370\n",
    "sun_diameter_feet = sun_diameter_miles *feet_per_mile\n",
    "tennis_ball_feet = tennis_ball_inches / 12\n",
    "tb_conv = sun_diameter_feet / tennis_ball_feet\n",
    "print ( tb_conv )"
   ]
  },
  {
   "cell_type": "code",
   "execution_count": null,
   "metadata": {},
   "outputs": [],
   "source": []
  }
 ],
 "metadata": {
  "kernelspec": {
   "display_name": "Python 3",
   "language": "python",
   "name": "python3"
  },
  "language_info": {
   "codemirror_mode": {
    "name": "ipython",
    "version": 3
   },
   "file_extension": ".py",
   "mimetype": "text/x-python",
   "name": "python",
   "nbconvert_exporter": "python",
   "pygments_lexer": "ipython3",
   "version": "3.8.3"
  }
 },
 "nbformat": 4,
 "nbformat_minor": 4
}
